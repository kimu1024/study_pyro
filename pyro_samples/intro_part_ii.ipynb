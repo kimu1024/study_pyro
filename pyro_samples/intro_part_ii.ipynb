{
 "cells": [
  {
   "cell_type": "markdown",
   "metadata": {},
   "source": [
    "## An introduction to Inference in Pyro\n",
    "\n",
    "https://pyro.ai/examples/intro_part_ii.html\n",
    "\n",
    "Pyroを用いた推論の例として、簡単な物理的問題を解く"
   ]
  },
  {
   "cell_type": "code",
   "execution_count": 1,
   "metadata": {},
   "outputs": [],
   "source": [
    "import matplotlib.pyplot as plt\n",
    "import numpy as np\n",
    "import torch\n",
    "\n",
    "import pyro\n",
    "import pyro.infer\n",
    "import pyro.optim\n",
    "import pyro.distributions as dist\n",
    "%matplotlib inline\n",
    "\n",
    "pyro.set_rng_seed(101)"
   ]
  },
  {
   "cell_type": "markdown",
   "metadata": {},
   "source": [
    "## A Simple Example\n",
    "\n",
    "ある物体の重さを測定するケースを考える。ただし、測定器の精度が悪く、ばらつきを持つ。また、見た目や事前の材料知識から重さを推測することもできる(同様にばらつきを持つ)。詳細条件は下記。\n",
    "\n",
    "+ weight | guess ~ Normal(guess, 1)\n",
    "+ measurement | guess, weight ~ Normal(weight, 0.75)\n",
    "\n",
    "まず、この条件での測定器(scale)関数を定義する。(引数：guess, 戻り値: 測定器の表示値)"
   ]
  },
  {
   "cell_type": "code",
   "execution_count": 2,
   "metadata": {},
   "outputs": [],
   "source": [
    "def scale(guess):\n",
    "    weight = pyro.sample(\"weight\", dist.Normal(guess, 1.0))\n",
    "    return pyro.sample(\"measurement\", dist.Normal(weight, 0.75))"
   ]
  },
  {
   "cell_type": "markdown",
   "metadata": {},
   "source": [
    "## Conditioning\n",
    "\n",
    "観測データからモデルを調整し、欲しいデータの分布を求める。ここでは、guess=8.5, measurement=9.5であったときの、weightの確率分布を求めたい。\n",
    "\n",
    "pyroでは、pyro.condition 関数を用いて、サンプルの値を拘束できる。ここでは、guessを引数として、measurementを9.5と固定する。これにより、func(guess)を行うと、出力は9.5固定で、内部のweightがランダムに変化する関数となる。\n",
    "\n",
    "+ pyro.condition\n",
    "\n",
    "  - 引数 : モデル、観測データの辞書\n",
    "  - 返り値 : 新しいモデル (入出力は同じで、引数に取った観測データは常に与えられた値となる)"
   ]
  },
  {
   "cell_type": "code",
   "execution_count": 3,
   "metadata": {},
   "outputs": [],
   "source": [
    "conditioned_scale = pyro.condition(scale, data={\"measurement\": 9.5})\n",
    "\n",
    "#以下のように、defによる関数定義の形で記載することや、lambda式により定義することもできる。\n",
    "def deferred_conditioned_scale(measurement, guess):\n",
    "    return pyro.condition(scale, data={\"measurement\": measurement})(guess)\n"
   ]
  },
  {
   "cell_type": "markdown",
   "metadata": {},
   "source": [
    "pyro.conditionで再定義するよりも、個々のpyro.sampleを定義する時点で観測値を直接決める方が便利なことも多い。その場合は、オプションobsを用いることで実現できる。(下記)"
   ]
  },
  {
   "cell_type": "code",
   "execution_count": 4,
   "metadata": {},
   "outputs": [],
   "source": [
    "def scale_obs(guess): # equivalent to conditioned_scale above\n",
    "    weight = pyro.sample(\"weight\", dist.Normal(guess, 1.0))\n",
    "    #ここでmeasurement = 9.5と定義する\n",
    "    return pyro.sample(\"measurement\", dist.Normal(weight, 0.75), obs=9.5)"
   ]
  },
  {
   "cell_type": "markdown",
   "metadata": {},
   "source": [
    "Pearl's do を表現するpyro.do 関数もある。これは、ある変数が、\"観測した結果xであった\"と、\"xになるようにした\"場合を区別する関数。交絡が存在する場合にこの差は重要らしい。"
   ]
  },
  {
   "cell_type": "markdown",
   "metadata": {},
   "source": [
    "## Flexible Approximate Inference With Guide Functions\n",
    "\n",
    "+ pyro.infer.SVIのようなpyroないの推定アルゴリズムを用いて、任意の確率関数を近似事後確率分布とできる。この近似事後確率分布をguide functions または guides と呼ぶ\n",
    "+ Guide functions は以下の条件を満たす必要がある。\n",
    " 1. 全ての観測されていないmodel内の変数がguide内にも現れる\n",
    " 1. 引数がmodelとguideで同じである。\n",
    "+ 現在、pyroでは以下の手法が実装されている\n",
    " 1. Importance sampling\n",
    " 1. MCMC\n",
    " 1. Stochastic variational inference (SVI)\n",
    " \n",
    "今回のケースでは、質量の平均・標準偏差の理論値を容易に計算できる(平均9.14, 標準偏差0.6) 推論の妥当性確認のためその関数を用意する"
   ]
  },
  {
   "cell_type": "code",
   "execution_count": 5,
   "metadata": {},
   "outputs": [],
   "source": [
    "def perfect_guide(guess):\n",
    "    loc = (0.75**2 * guess + 9.5) / (1 + 0.75**2) #9.14\n",
    "    scale = np.sqrt(0.75**2/(1 + 0.75**2)) # #0.6\n",
    "    return pyro.sample(\"weight\", dist.Normal(loc,scale))"
   ]
  },
  {
   "cell_type": "markdown",
   "metadata": {},
   "source": [
    "## Parametrized Stochastic Functions and Variational Inference\n",
    "\n",
    "+ variational inference : 変分ベイズ法\n",
    "+ pyro.param(\"名前\", tensor(初期値))で、推定するパラメータの命名および初期値代入を行う。このとき、constraintオプションでパラメータの変化範囲を指定できる。指定にはpytorchのconstraints moduleを用いる。(https://pytorch.org/docs/master/distributions.html#module-torch.distributions.constraints)\n",
    "+ 本例では、標準偏差は必ず0以上のため、その条件を指定する(constraints.positive)\n"
   ]
  },
  {
   "cell_type": "code",
   "execution_count": 6,
   "metadata": {},
   "outputs": [],
   "source": [
    "from torch.distributions import constraints\n",
    "\n",
    "def scale_parametrized_guide_constrained(guess):\n",
    "    a = pyro.param(\"a\", torch.tensor(guess))\n",
    "    b = pyro.param(\"b\", torch.tensor(1.), constraint = constraints.positive)\n",
    "    return pyro.sample(\"weight\", dist.Normal(a, b))"
   ]
  },
  {
   "cell_type": "markdown",
   "metadata": {},
   "source": [
    "+ Stochastic variational inferenceの特徴は下記\n",
    " 1. パラメータは常に実数テンソル\n",
    " 1. モデルとガイドの実行履歴のサンプルからモンテカルロ法により損失関数を推定する\n",
    " 1. 理想のパラメータを探すために確率勾配降下法(stochastic gradient descent; SGD)を用いる\n",
    " \n",
    "+ Pytorchの機能により、上記の計算について、GPUの使用や高速化が可能となっている\n",
    "+ SVIの詳細は https://pyro.ai/examples/svi_part_i.html　を参照\n"
   ]
  },
  {
   "cell_type": "code",
   "execution_count": 7,
   "metadata": {},
   "outputs": [],
   "source": [
    "guess = 8.5\n",
    "\n",
    "pyro.clear_param_store()\n",
    "svi = pyro.infer.SVI(model=conditioned_scale,\n",
    "                     guide=scale_parametrized_guide_constrained,\n",
    "                     optim=pyro.optim.SGD({\"lr\": 0.001, \"momentum\":0.1}),\n",
    "                     loss=pyro.infer.Trace_ELBO())\n",
    "\n",
    "\n",
    "losses, a,b  = [], [], []\n",
    "num_steps = 2500\n",
    "for t in range(num_steps):\n",
    "    losses.append(svi.step(guess))\n",
    "    a.append(pyro.param(\"a\").item())\n",
    "    b.append(pyro.param(\"b\").item())\n",
    "    \n",
    "\n"
   ]
  },
  {
   "cell_type": "code",
   "execution_count": 16,
   "metadata": {},
   "outputs": [
    {
     "name": "stdout",
     "output_type": "stream",
     "text": [
      "a =  9.107148170471191\n",
      "b =  0.6064099669456482\n"
     ]
    },
    {
     "data": {
      "image/png": "[encoded data removed]",
      "text/plain": [
       "<Figure size 720x216 with 3 Axes>"
      ]
     },
     "metadata": {
      "needs_background": "light"
     },
     "output_type": "display_data"
    }
   ],
   "source": [
    "#データのプロット記法を元のコードから変更している\n",
    "print('a = ',pyro.param(\"a\").item())\n",
    "print('b = ', pyro.param(\"b\").item())\n",
    "\n",
    "fig, axes=plt.subplots(nrows=1, ncols=3, figsize=(10,3))\n",
    "axes[0].plot(losses)\n",
    "\n",
    "axes[1].plot(a, label='estimated')\n",
    "axes[1].plot([0,num_steps],[9.14,9.14], 'k:', label='calc')\n",
    "axes[1].legend()\n",
    "\n",
    "axes[2].plot(b, label='estimated')\n",
    "axes[2].plot([0,num_steps],[0.6,0.6], 'k:', label='calc')\n",
    "axes[2].legend()\n",
    "\n",
    "axes[0].set_title(\"ELBO\")\n",
    "axes[1].set_title(\"a\")\n",
    "axes[2].set_title(\"b\")\n",
    "for i in range(3):\n",
    "    axes[i].set_xlabel(\"step\")\n",
    "\n",
    "axes[0].set_ylabel(\"loss\");\n",
    "axes[1].set_ylabel('a')\n",
    "axes[2].set_ylabel('b')\n",
    "\n",
    "#axes[2].tight_layout()\n",
    "fig.tight_layout()\n",
    "plt.show()"
   ]
  }
 ],
 "metadata": {
  "kernelspec": {
   "display_name": "Python 3",
   "language": "python",
   "name": "python3"
  },
  "language_info": {
   "codemirror_mode": {
    "name": "ipython",
    "version": 3
   },
   "file_extension": ".py",
   "mimetype": "text/x-python",
   "name": "python",
   "nbconvert_exporter": "python",
   "pygments_lexer": "ipython3",
   "version": "3.7.5"
  }
 },
 "nbformat": 4,
 "nbformat_minor": 4
}
